{
  "nbformat": 4,
  "nbformat_minor": 0,
  "metadata": {
    "colab": {
      "name": "Emotion and engagement prediction.ipynb",
      "provenance": [],
      "collapsed_sections": []
    },
    "kernelspec": {
      "name": "python3",
      "display_name": "Python 3"
    },
    "accelerator": "GPU"
  },
  "cells": [
    {
      "cell_type": "markdown",
      "metadata": {
        "id": "NtdVhYFb7Bj1",
        "colab_type": "text"
      },
      "source": [
        "# **Mini project: Emotion and engagement prediction from Facebook news posts**"
      ]
    },
    {
      "cell_type": "code",
      "metadata": {
        "id": "8PKZ9j5TBgHn",
        "colab_type": "code",
        "outputId": "ccd2a27f-b00e-442c-8579-c4d7e866c1af",
        "colab": {
          "base_uri": "https://localhost:8080/",
          "height": 51
        }
      },
      "source": [
        "import tensorflow as tf\n",
        "\n",
        "print(tf.__version__)\n",
        "print(\"EE enabled?\", tf.executing_eagerly())\n",
        "\n",
        "import re\n",
        "import numpy as np\n",
        "import time\n",
        "from sklearn import preprocessing\n",
        "from sklearn.model_selection import train_test_split\n",
        "import matplotlib.pyplot as plt\n",
        "%matplotlib inline\n",
        "\n",
        "import itertools\n",
        "import pandas as pd\n",
        "from scipy import stats\n",
        "from sklearn import metrics\n",
        "from sklearn.preprocessing import LabelEncoder\n",
        "\n",
        "import pickle\n",
        "\n",
        "def convert_to_pickle(item, directory):\n",
        "    pickle.dump(item, open(directory,\"wb\"))\n",
        "\n",
        "def load_from_pickle(directory):\n",
        "    return pickle.load(open(directory,\"rb\"))"
      ],
      "execution_count": 4,
      "outputs": [
        {
          "output_type": "stream",
          "text": [
            "2.2.0-rc2\n",
            "EE enabled? True\n"
          ],
          "name": "stdout"
        }
      ]
    },
    {
      "cell_type": "markdown",
      "metadata": {
        "id": "MRicc_1s7U-K",
        "colab_type": "text"
      },
      "source": [
        "# 1) Load news datasets from Google Drive:"
      ]
    },
    {
      "cell_type": "code",
      "metadata": {
        "id": "WX08XI8hCDFq",
        "colab_type": "code",
        "outputId": "47476f89-9502-414d-9ad2-00d97836a057",
        "colab": {
          "base_uri": "https://localhost:8080/",
          "height": 139
        }
      },
      "source": [
        "from google.colab import drive\n",
        "drive.mount('/gdrive')\n",
        "tf.test.gpu_device_name()"
      ],
      "execution_count": 5,
      "outputs": [
        {
          "output_type": "stream",
          "text": [
            "Go to this URL in a browser: https://accounts.google.com/o/oauth2/auth?client_id=947318989803-6bn6qk8qdgf4n4g3pfee6491hc0brc4i.apps.googleusercontent.com&redirect_uri=urn%3aietf%3awg%3aoauth%3a2.0%3aoob&response_type=code&scope=email%20https%3a%2f%2fwww.googleapis.com%2fauth%2fdocs.test%20https%3a%2f%2fwww.googleapis.com%2fauth%2fdrive%20https%3a%2f%2fwww.googleapis.com%2fauth%2fdrive.photos.readonly%20https%3a%2f%2fwww.googleapis.com%2fauth%2fpeopleapi.readonly\n",
            "\n",
            "Enter your authorization code:\n",
            "··········\n",
            "Mounted at /gdrive\n"
          ],
          "name": "stdout"
        },
        {
          "output_type": "execute_result",
          "data": {
            "text/plain": [
              "'/device:GPU:0'"
            ]
          },
          "metadata": {
            "tags": []
          },
          "execution_count": 5
        }
      ]
    },
    {
      "cell_type": "markdown",
      "metadata": {
        "id": "uPwBK_Ti8FeC",
        "colab_type": "text"
      },
      "source": [
        "\n",
        "\n",
        "1.   Concatenate news datasets\n",
        "2.   Drop rows with missing data in dataframe\n",
        "3.   Drop rows with no reactions\n",
        "\n"
      ]
    },
    {
      "cell_type": "code",
      "metadata": {
        "id": "mES5LUtlCTj5",
        "colab_type": "code",
        "colab": {}
      },
      "source": [
        "import bson \n",
        "import pandas as pd\n",
        "\n",
        "trump_data = pd.read_csv(\"/gdrive/My Drive/trump_filtered_data.csv\") \n",
        "\n",
        "fox_news = pd.read_csv(\"/gdrive/My Drive/news_datasets/fox_news_posts.csv\") \n",
        "cnn_news = pd.read_csv(\"/gdrive/My Drive/news_datasets/CNN_news_posts.csv\") \n",
        "bbc_news = pd.read_csv(\"/gdrive/My Drive/news_datasets/bbc_news.csv\")\n",
        "nbc_news = pd.read_csv(\"/gdrive/My Drive/news_datasets/nbc_news.csv\") \n",
        "npr_news = pd.read_csv(\"/gdrive/My Drive/news_datasets/npr_news.csv\") \n",
        "the_los_angeles_times_news = pd.read_csv(\"/gdrive/My Drive/news_datasets/the_los_angeles_times_news.csv\") \n",
        "cbs_news = pd.read_csv(\"/gdrive/My Drive/news_datasets/cbs_news.csv\") \n",
        "fox_news2 = pd.read_csv(\"/gdrive/My Drive/news_datasets/fox_news2.csv\") \n",
        "abc_news = pd.read_csv(\"/gdrive/My Drive/news_datasets/abc_news.csv\") \n",
        "\n",
        "\n",
        "DF_list = list()\n",
        "DF_list.append(fox_news)\n",
        "DF_list.append(cnn_news)\n",
        "DF_list.append(bbc_news)\n",
        "DF_list.append(nbc_news)\n",
        "DF_list.append(npr_news)\n",
        "DF_list.append(the_los_angeles_times_news)\n",
        "DF_list.append(cbs_news)\n",
        "DF_list.append(fox_news2)\n",
        "DF_list.append(abc_news)\n",
        "\n",
        "process_list = list()\n",
        "\n",
        "for it in DF_list:\n",
        "  item = it[['message', 'post_type', 'likes_count', 'comments_count', 'shares_count', 'love_count', 'wow_count', 'haha_count', 'sad_count', 'angry_count']]\n",
        "  process_list.append(item)\n",
        "\n",
        "d = pd.concat(process_list, axis=0, sort=True)\n",
        "da = d[['message', 'post_type', 'likes_count', 'comments_count', 'shares_count', 'love_count', 'wow_count', 'haha_count', 'sad_count', 'angry_count']]\n",
        "dat = da.rename(columns={\"message\":\"text\", \"likes_count\":\"likes\", \"comments_count\":\"comments\", \"shares_count\":\"shares\", \"love_count\":\"loves\", \"wow_count\":\"wows\", \"haha_count\":\"hahas\", \"sad_count\":\"sads\", \"angry_count\":\"angrys\"})\n",
        "dat = dat.dropna()\n",
        "dat = dat[(dat['loves'] != 0) | (dat['wows'] != 0) | (dat['hahas'] != 0) | (dat['sads'] != 0) | (dat['angrys'] != 0)]"
      ],
      "execution_count": 0,
      "outputs": []
    },
    {
      "cell_type": "markdown",
      "metadata": {
        "id": "hipISRQK-CY-",
        "colab_type": "text"
      },
      "source": [
        "# 2) Preprocess target data: "
      ]
    },
    {
      "cell_type": "code",
      "metadata": {
        "id": "k6gH1Bcg0onX",
        "colab_type": "code",
        "colab": {
          "base_uri": "https://localhost:8080/",
          "height": 419
        },
        "outputId": "f52f26b0-2249-4df2-860d-136e620cd779"
      },
      "source": [
        "def change_news_labels(data):\n",
        "  dataset = data.copy()\n",
        "  likes = dataset['likes']\n",
        "  comments = dataset['comments']\n",
        "  shares = dataset['shares']\n",
        "\n",
        "  loves = np.array(dataset['loves']) \n",
        "  wows = np.array(dataset['wows']) \n",
        "  hahas = np.array(dataset['hahas']) \n",
        "  sads = np.array(dataset['sads']) \n",
        "  angrys = np.array(dataset['angrys']) \n",
        "\n",
        "  loves_labels = []\n",
        "  wows_labels = []\n",
        "  hahas_labels = []\n",
        "  sads_labels = []\n",
        "  angrys_labels = []\n",
        "\n",
        "  for i in range(len(np.array(dat))):\n",
        "    lo = loves[i]\n",
        "    wo = wows[i]\n",
        "    ha = hahas[i]\n",
        "    sa = sads[i]\n",
        "    ang = angrys[i]\n",
        "\n",
        "    emo_list = [lo, wo, ha, sa, ang]\n",
        "    sum_count = np.sum(emo_list)\n",
        "    love = (lo/sum_count)\n",
        "    wow = (wo/sum_count)\n",
        "    haha = (ha/sum_count)\n",
        "    sad = (sa/sum_count)\n",
        "    angry = (ang/sum_count)\n",
        "\n",
        "    loves_labels.append(love)\n",
        "    wows_labels.append(wow)\n",
        "    hahas_labels.append(haha)\n",
        "    sads_labels.append(sad)\n",
        "    angrys_labels.append(angry)\n",
        "\n",
        "  \n",
        "  likes_med1 = np.percentile(likes, 33)\n",
        "  likes_med2 = np.percentile(likes, 66)\n",
        "  comments_med1 = np.percentile(comments, 33)\n",
        "  comments_med2 = np.percentile(comments, 66)\n",
        "  shares_med1 = np.percentile(shares, 33)\n",
        "  shares_med2 = np.percentile(shares, 66)\n",
        "\n",
        "  likes = [\"Low\" if l < likes_med1 else \"Medium\" if l < likes_med2 else \"High\" for l in likes]\n",
        "  comments = [\"Low\" if l < comments_med1 else \"Medium\" if l < comments_med2 else \"High\" for l in comments]\n",
        "  shares = [\"Low\" if l < shares_med1 else \"Medium\" if l < shares_med2 else \"High\" for l in shares]\n",
        "\n",
        "  dataset['likes'] = likes\n",
        "  dataset['comments'] = comments\n",
        "  dataset['shares'] = shares\n",
        "  dataset['loves'] =  loves_labels\n",
        "  dataset['wows'] = wows_labels\n",
        "  dataset['hahas'] = hahas_labels\n",
        "  dataset['sads'] =  sads_labels\n",
        "  dataset['angrys'] = angrys_labels\n",
        "  \n",
        "  return dataset\n",
        "\n",
        "data = change_news_labels(dat)\n",
        "data.drop_duplicates(subset =\"text\", keep = 'first', inplace = True) \n",
        "data"
      ],
      "execution_count": 7,
      "outputs": [
        {
          "output_type": "execute_result",
          "data": {
            "text/html": [
              "<div>\n",
              "<style scoped>\n",
              "    .dataframe tbody tr th:only-of-type {\n",
              "        vertical-align: middle;\n",
              "    }\n",
              "\n",
              "    .dataframe tbody tr th {\n",
              "        vertical-align: top;\n",
              "    }\n",
              "\n",
              "    .dataframe thead th {\n",
              "        text-align: right;\n",
              "    }\n",
              "</style>\n",
              "<table border=\"1\" class=\"dataframe\">\n",
              "  <thead>\n",
              "    <tr style=\"text-align: right;\">\n",
              "      <th></th>\n",
              "      <th>text</th>\n",
              "      <th>post_type</th>\n",
              "      <th>likes</th>\n",
              "      <th>comments</th>\n",
              "      <th>shares</th>\n",
              "      <th>loves</th>\n",
              "      <th>wows</th>\n",
              "      <th>hahas</th>\n",
              "      <th>sads</th>\n",
              "      <th>angrys</th>\n",
              "    </tr>\n",
              "  </thead>\n",
              "  <tbody>\n",
              "    <tr>\n",
              "      <th>0</th>\n",
              "      <td>That's ten twins in all!</td>\n",
              "      <td>link</td>\n",
              "      <td>High</td>\n",
              "      <td>Medium</td>\n",
              "      <td>High</td>\n",
              "      <td>0.343109</td>\n",
              "      <td>0.607038</td>\n",
              "      <td>0.035191</td>\n",
              "      <td>0.005865</td>\n",
              "      <td>0.008798</td>\n",
              "    </tr>\n",
              "    <tr>\n",
              "      <th>1</th>\n",
              "      <td>BREAKING NEWS: Fox News projects Donald J. Tru...</td>\n",
              "      <td>photo</td>\n",
              "      <td>High</td>\n",
              "      <td>High</td>\n",
              "      <td>High</td>\n",
              "      <td>0.392157</td>\n",
              "      <td>0.078431</td>\n",
              "      <td>0.058824</td>\n",
              "      <td>0.098039</td>\n",
              "      <td>0.372549</td>\n",
              "    </tr>\n",
              "    <tr>\n",
              "      <th>2</th>\n",
              "      <td>'A couple of months ago we weren't expected to...</td>\n",
              "      <td>video</td>\n",
              "      <td>High</td>\n",
              "      <td>High</td>\n",
              "      <td>High</td>\n",
              "      <td>0.400749</td>\n",
              "      <td>0.048689</td>\n",
              "      <td>0.064919</td>\n",
              "      <td>0.218477</td>\n",
              "      <td>0.267166</td>\n",
              "    </tr>\n",
              "    <tr>\n",
              "      <th>3</th>\n",
              "      <td>Do you agree with Jay Sekulow?</td>\n",
              "      <td>link</td>\n",
              "      <td>High</td>\n",
              "      <td>High</td>\n",
              "      <td>High</td>\n",
              "      <td>0.133621</td>\n",
              "      <td>0.019397</td>\n",
              "      <td>0.021552</td>\n",
              "      <td>0.112069</td>\n",
              "      <td>0.713362</td>\n",
              "    </tr>\n",
              "    <tr>\n",
              "      <th>4</th>\n",
              "      <td>Bill Gates said a court order requiring Apple ...</td>\n",
              "      <td>link</td>\n",
              "      <td>High</td>\n",
              "      <td>High</td>\n",
              "      <td>High</td>\n",
              "      <td>0.309589</td>\n",
              "      <td>0.063014</td>\n",
              "      <td>0.038356</td>\n",
              "      <td>0.032877</td>\n",
              "      <td>0.556164</td>\n",
              "    </tr>\n",
              "    <tr>\n",
              "      <th>...</th>\n",
              "      <td>...</td>\n",
              "      <td>...</td>\n",
              "      <td>...</td>\n",
              "      <td>...</td>\n",
              "      <td>...</td>\n",
              "      <td>...</td>\n",
              "      <td>...</td>\n",
              "      <td>...</td>\n",
              "      <td>...</td>\n",
              "      <td>...</td>\n",
              "    </tr>\n",
              "    <tr>\n",
              "      <th>14780</th>\n",
              "      <td>High turnout among Latino voters -- including ...</td>\n",
              "      <td>link</td>\n",
              "      <td>High</td>\n",
              "      <td>High</td>\n",
              "      <td>Medium</td>\n",
              "      <td>0.686976</td>\n",
              "      <td>0.019005</td>\n",
              "      <td>0.048072</td>\n",
              "      <td>0.013415</td>\n",
              "      <td>0.232532</td>\n",
              "    </tr>\n",
              "    <tr>\n",
              "      <th>14781</th>\n",
              "      <td>This New Jersey family went to extraordinary m...</td>\n",
              "      <td>video</td>\n",
              "      <td>Medium</td>\n",
              "      <td>High</td>\n",
              "      <td>Medium</td>\n",
              "      <td>0.197331</td>\n",
              "      <td>0.062917</td>\n",
              "      <td>0.684461</td>\n",
              "      <td>0.011439</td>\n",
              "      <td>0.043851</td>\n",
              "    </tr>\n",
              "    <tr>\n",
              "      <th>14783</th>\n",
              "      <td>As Election Day arrives, one of the campaign's...</td>\n",
              "      <td>link</td>\n",
              "      <td>High</td>\n",
              "      <td>High</td>\n",
              "      <td>High</td>\n",
              "      <td>0.021544</td>\n",
              "      <td>0.057765</td>\n",
              "      <td>0.291667</td>\n",
              "      <td>0.015388</td>\n",
              "      <td>0.613636</td>\n",
              "    </tr>\n",
              "    <tr>\n",
              "      <th>14784</th>\n",
              "      <td>Donald J. Trump's path to victory isn't clear ...</td>\n",
              "      <td>link</td>\n",
              "      <td>Medium</td>\n",
              "      <td>High</td>\n",
              "      <td>Low</td>\n",
              "      <td>0.414179</td>\n",
              "      <td>0.010261</td>\n",
              "      <td>0.150187</td>\n",
              "      <td>0.020522</td>\n",
              "      <td>0.404851</td>\n",
              "    </tr>\n",
              "    <tr>\n",
              "      <th>14785</th>\n",
              "      <td>Hillary Clinton is hitting three important sta...</td>\n",
              "      <td>link</td>\n",
              "      <td>High</td>\n",
              "      <td>High</td>\n",
              "      <td>Medium</td>\n",
              "      <td>0.552671</td>\n",
              "      <td>0.011128</td>\n",
              "      <td>0.045994</td>\n",
              "      <td>0.016320</td>\n",
              "      <td>0.373887</td>\n",
              "    </tr>\n",
              "  </tbody>\n",
              "</table>\n",
              "<p>76348 rows × 10 columns</p>\n",
              "</div>"
            ],
            "text/plain": [
              "                                                    text  ...    angrys\n",
              "0                               That's ten twins in all!  ...  0.008798\n",
              "1      BREAKING NEWS: Fox News projects Donald J. Tru...  ...  0.372549\n",
              "2      'A couple of months ago we weren't expected to...  ...  0.267166\n",
              "3                         Do you agree with Jay Sekulow?  ...  0.713362\n",
              "4      Bill Gates said a court order requiring Apple ...  ...  0.556164\n",
              "...                                                  ...  ...       ...\n",
              "14780  High turnout among Latino voters -- including ...  ...  0.232532\n",
              "14781  This New Jersey family went to extraordinary m...  ...  0.043851\n",
              "14783  As Election Day arrives, one of the campaign's...  ...  0.613636\n",
              "14784  Donald J. Trump's path to victory isn't clear ...  ...  0.404851\n",
              "14785  Hillary Clinton is hitting three important sta...  ...  0.373887\n",
              "\n",
              "[76348 rows x 10 columns]"
            ]
          },
          "metadata": {
            "tags": []
          },
          "execution_count": 7
        }
      ]
    },
    {
      "cell_type": "markdown",
      "metadata": {
        "id": "PL6pSS01-Vlp",
        "colab_type": "text"
      },
      "source": [
        "**Heatmap of emotion correlations from Spearman matrix:**"
      ]
    },
    {
      "cell_type": "code",
      "metadata": {
        "id": "hxzNUxvr9SjU",
        "colab_type": "code",
        "colab": {
          "base_uri": "https://localhost:8080/",
          "height": 479
        },
        "outputId": "c612a488-8322-48b8-a99d-391e0209cdeb"
      },
      "source": [
        "import numpy as np; np.random.seed(0)\n",
        "import seaborn as sns; sns.set()\n",
        "from scipy.stats import spearmanr\n",
        "\n",
        "def get_spearman_correlation_heatmap(em_data):\n",
        "  res = spearmanr(em_data)\n",
        "  print(\"Spearman correlation matrix: \")\n",
        "  print(res[0])\n",
        "  ax = sns.heatmap(res[0], yticklabels=em_data.columns, xticklabels=em_data.columns, vmin=-1, vmax=1, cmap='RdBu_r')\n",
        "  return ax\n",
        "\n",
        "heatmap = get_spearman_correlation_heatmap(data.iloc[:, 5:10])\n",
        "print(\" \")\n",
        "print(\"HEATMAP:\")\n",
        "heatmap"
      ],
      "execution_count": 8,
      "outputs": [
        {
          "output_type": "stream",
          "text": [
            "Spearman correlation matrix: \n",
            "[[ 1.         -0.20935629  0.01915831 -0.55275802 -0.42213044]\n",
            " [-0.20935629  1.         -0.03329411 -0.07624948 -0.17362041]\n",
            " [ 0.01915831 -0.03329411  1.         -0.37301714  0.1607878 ]\n",
            " [-0.55275802 -0.07624948 -0.37301714  1.          0.21732631]\n",
            " [-0.42213044 -0.17362041  0.1607878   0.21732631  1.        ]]\n",
            " \n",
            "HEATMAP:\n"
          ],
          "name": "stdout"
        },
        {
          "output_type": "stream",
          "text": [
            "/usr/local/lib/python3.6/dist-packages/statsmodels/tools/_testing.py:19: FutureWarning: pandas.util.testing is deprecated. Use the functions in the public API at pandas.testing instead.\n",
            "  import pandas.util.testing as tm\n"
          ],
          "name": "stderr"
        },
        {
          "output_type": "execute_result",
          "data": {
            "text/plain": [
              "<matplotlib.axes._subplots.AxesSubplot at 0x7f2c0b6fbc50>"
            ]
          },
          "metadata": {
            "tags": []
          },
          "execution_count": 8
        },
        {
          "output_type": "display_data",
          "data": {
            "image/png": "[encoded data removed]",
            "text/plain": [
              "<Figure size 432x288 with 2 Axes>"
            ]
          },
          "metadata": {
            "tags": []
          }
        }
      ]
    },
    {
      "cell_type": "markdown",
      "metadata": {
        "id": "L1-JmYB4LN1E",
        "colab_type": "text"
      },
      "source": [
        "# 3) Preprocessing textual data:"
      ]
    },
    {
      "cell_type": "markdown",
      "metadata": {
        "id": "LzIEcsAJ-6Gy",
        "colab_type": "text"
      },
      "source": [
        "\n",
        "\n",
        "1.   Remove URLs\n",
        "2.   Remove numbers\n",
        "3.   Remove punctuation\n",
        "\n"
      ]
    },
    {
      "cell_type": "code",
      "metadata": {
        "id": "18ITZaPRS_7X",
        "colab_type": "code",
        "colab": {}
      },
      "source": [
        "import re\n",
        "import string\n",
        "from sklearn.model_selection import train_test_split\n",
        "\n",
        "\n",
        "def remove_urls(vTEXT):\n",
        "    vTEXT = re.sub(r'(https|http)?:\\/\\/(\\w|\\.|\\/|\\?|\\=|\\&|\\%)*\\b', '', vTEXT, flags=re.MULTILINE)\n",
        "    return(vTEXT)\n",
        "\n",
        "def preprocess_data(sentence):\n",
        "  URLless_string = remove_urls(sentence)\n",
        "  no_number = re.sub(r'\\d+', '', URLless_string)\n",
        "  exclude = set(string.punctuation)\n",
        "  result = ''.join(ch for ch in no_number if ch not in exclude)  \n",
        "  return result"
      ],
      "execution_count": 0,
      "outputs": []
    },
    {
      "cell_type": "markdown",
      "metadata": {
        "id": "TaKZcAzp_hb6",
        "colab_type": "text"
      },
      "source": [
        "**Construct the Vocabulary and Index-Word mapping:**"
      ]
    },
    {
      "cell_type": "code",
      "metadata": {
        "id": "W83UOk3ZEOoc",
        "colab_type": "code",
        "colab": {}
      },
      "source": [
        "# retain only text that contain less that 70 tokens to avoid too much padding\n",
        "data[\"token_size\"] = data[\"text\"].apply(lambda x: len(x.split(' ')))\n",
        "data = data.loc[data['token_size'] < 70].copy()\n",
        "\n",
        "# This class creates a word-index mapping (e.g,. \"house\" -> 6) and vice-versa (e.g., 6 -> \"house\") for the dataset\n",
        "class ConstructVocab():\n",
        "    def __init__(self, sentences):\n",
        "        self.sentences = sentences\n",
        "        self.word2idx = {}\n",
        "        self.idx2word = {}\n",
        "        self.vocab = set()\n",
        "        self.create_index()\n",
        "        \n",
        "    def create_index(self):\n",
        "        for s in self.sentences:\n",
        "            # update with individual tokens\n",
        "            self.vocab.update(s.split(' '))\n",
        "            \n",
        "        # sort the vocab\n",
        "        self.vocab = sorted(self.vocab)\n",
        "\n",
        "        # add a padding token with index 0\n",
        "        self.word2idx['<pad>'] = 0\n",
        "        \n",
        "        # word to index mapping\n",
        "        for index, word in enumerate(self.vocab):\n",
        "            self.word2idx[word] = index + 1 # +1 because of pad token\n",
        "        \n",
        "        # index to word mapping\n",
        "        for word, index in self.word2idx.items():\n",
        "            self.idx2word[index] = word  \n",
        "\n",
        "\n",
        "x = [preprocess_data(s) for s in data[\"text\"].values]\n",
        "inputs = ConstructVocab(x)\n",
        "input_tensor = [[inputs.word2idx[s] for s in es.split(' ')]  for es in x]\n",
        "\n",
        "def max_length(tensor):\n",
        "    return max(len(t) for t in tensor)\n",
        "\n",
        "max_length_inp = max_length(input_tensor)\n",
        "input_tensor = tf.keras.preprocessing.sequence.pad_sequences(input_tensor, \n",
        "                                                             maxlen=max_length_inp,\n",
        "                                                             padding='post')"
      ],
      "execution_count": 0,
      "outputs": []
    },
    {
      "cell_type": "markdown",
      "metadata": {
        "id": "cSRyTb5TAKO3",
        "colab_type": "text"
      },
      "source": [
        "**Convert target data to suitable format for training:**"
      ]
    },
    {
      "cell_type": "code",
      "metadata": {
        "colab_type": "code",
        "id": "c-VmkoDMNT2R",
        "colab": {}
      },
      "source": [
        "def encode_labels(arr):\n",
        "  a = [[0,0,1] if e==\"High\" else [0,1,0] if e==\"Medium\" else [1,0,0] for e in arr]\n",
        "  return a \n",
        "\n",
        "\n",
        "likes = np.array(data['likes'])\n",
        "comments = np.array(data['comments'])\n",
        "shares = np.array(data['shares'])\n",
        "loves = np.array(data['loves'])\n",
        "wows = np.array(data['wows'])\n",
        "hahas = np.array(data['hahas'])\n",
        "sads = np.array(data['sads'])\n",
        "angrys = np.array(data['angrys'])\n",
        "\n",
        "post_types = np.array(data[\"post_type\"])\n",
        "\n",
        "likes_target = encode_labels(likes.reshape(len(likes), 1))\n",
        "comments_target = encode_labels(comments.reshape(len(comments), 1))\n",
        "shares_target = encode_labels(shares.reshape(len(shares), 1))\n",
        "loves_target = loves.reshape(len(loves), 1)\n",
        "wows_target = wows.reshape(len(wows), 1)\n",
        "hahas_target = hahas.reshape(len(hahas), 1)\n",
        "sads_target = sads.reshape(len(sads), 1)\n",
        "angrys_target = angrys.reshape(len(angrys), 1)\n"
      ],
      "execution_count": 0,
      "outputs": []
    },
    {
      "cell_type": "markdown",
      "metadata": {
        "id": "HWSXtjpDGFRR",
        "colab_type": "text"
      },
      "source": [
        "# 4) Split data\n",
        "\n",
        "We split our data into a train and validation set. "
      ]
    },
    {
      "cell_type": "code",
      "metadata": {
        "id": "0koeqJqwLfb8",
        "colab_type": "code",
        "colab": {}
      },
      "source": [
        "x_train, x_test, post_type_train, post_type_test, like_train, like_test, comment_train, comment_test, share_train, share_test, love_train, love_test, wow_train, wow_test, haha_train, haha_test, sad_train, sad_test, angry_train, angry_test = train_test_split(input_tensor, post_types, likes_target, comments_target, shares_target, loves_target, wows_target, hahas_target, sads_target, angrys_target, test_size=0.3, random_state=42)\n",
        "\n",
        "y_train = np.concatenate((love_train, wow_train, haha_train, sad_train, angry_train), axis=1)\n",
        "y_test = np.concatenate((love_test, wow_test, haha_test, sad_test, angry_test), axis=1)\n",
        "\n",
        "y_eng_train = np.concatenate((comment_train, share_train, like_train), axis=1)\n",
        "y_eng_test = np.concatenate((comment_test, share_test, like_test), axis=1)\n",
        "\n",
        "post_type_tra = np.reshape(post_type_train, (post_type_train.shape[0], 1))\n",
        "post_type_te = np.reshape(post_type_test, (post_type_test.shape[0], 1))\n",
        "posts_train =  np.reshape(post_type_tra, (post_type_tra.shape[0], 1))\n",
        "posts_test =  np.reshape(post_type_te, (post_type_te.shape[0], 1))"
      ],
      "execution_count": 0,
      "outputs": []
    },
    {
      "cell_type": "markdown",
      "metadata": {
        "id": "um_VaOVFXSQj",
        "colab_type": "text"
      },
      "source": [
        "# 5) Emotion prediction"
      ]
    },
    {
      "cell_type": "markdown",
      "metadata": {
        "id": "qxPsbxEUDF9O",
        "colab_type": "text"
      },
      "source": [
        "We load the data into a data loader, which makes it easy to manipulate the data, create batches, and apply further transformations."
      ]
    },
    {
      "cell_type": "code",
      "metadata": {
        "id": "KzhSDj7WN3In",
        "colab_type": "code",
        "colab": {}
      },
      "source": [
        "TRAIN_BUFFER_SIZE = (x_train.shape[0])\n",
        "TEST_BUFFER_SIZE = (x_test.shape[0])\n",
        "BATCH_SIZE = 128\n",
        "TRAIN_N_BATCH = TRAIN_BUFFER_SIZE // BATCH_SIZE\n",
        "TEST_N_BATCH = TEST_BUFFER_SIZE // BATCH_SIZE\n",
        "\n",
        "embedding_dim = 256\n",
        "units = 1024\n",
        "vocab_inp_size = len(inputs.word2idx)\n",
        "target_size = y_train.shape[1]\n",
        "inp_shape = x_train.shape[1]\n",
        "\n",
        "# emotion datasets\n",
        "train_dataset = tf.data.Dataset.from_tensor_slices((x_train, y_train)).shuffle(TRAIN_BUFFER_SIZE) #add posts_training here for engagement prediction\n",
        "train_dataset = train_dataset.batch(BATCH_SIZE, drop_remainder=True)\n",
        "test_dataset = tf.data.Dataset.from_tensor_slices((x_test, y_test)).shuffle(TEST_BUFFER_SIZE)\n",
        "test_dataset = test_dataset.batch(BATCH_SIZE, drop_remainder=True)\n"
      ],
      "execution_count": 0,
      "outputs": []
    },
    {
      "cell_type": "markdown",
      "metadata": {
        "id": "qthBcMYKGcUA",
        "colab_type": "text"
      },
      "source": [
        "### Implementing a custom loss function to account for emotions correlations"
      ]
    },
    {
      "cell_type": "code",
      "metadata": {
        "id": "eKUCt15YnU-I",
        "colab_type": "code",
        "colab": {}
      },
      "source": [
        "import math\n",
        "\n",
        "def Custom_KLD_loss(y, prediction): # add posts here\n",
        "\n",
        "    pred = ([[0 if t<=0.2 else 1 for t in preds] for preds in (prediction)])\n",
        "    ground = ([[0 if t<=0.2 else 1 for t in gr] for gr in (y)])\n",
        "    li = []\n",
        "    for i in range(len(pred)):\n",
        "      if ((ground[i][3] == ground[i][4]) and (pred[i][3] != pred[i][4])):\n",
        "        li.append(i)\n",
        "      if ((ground[i][0] != ground[i][3]) and (pred[i][0] == pred[i][3])):\n",
        "        li.append(i)\n",
        "    \n",
        "    mask_array = np.ones((128,), dtype=np.float32)\n",
        "    for index in li: \n",
        "      mask_array[index] = mask_array[index]*2\n",
        "\n",
        "    mask = tf.convert_to_tensor(mask_array)\n",
        "    k = tf.keras.losses.KLD\n",
        "    loss = k(y, prediction)\n",
        "    return loss*mask\n",
        "\n",
        " \n",
        "def custom_accuracy(y, yhat):\n",
        "    r1 = tf.math.greater(y, 0.2)\n",
        "    r2 = tf.math.greater(yhat, 0.2)\n",
        "    match = tf.math.equal(r1, r2)\n",
        "    n_matches = tf.reduce_sum(tf.cast(match, tf.float32))\n",
        "    len_y = tf.cast(tf.size(y), tf.float32)\n",
        "    acc = (n_matches/(len_y))\n",
        "    return acc"
      ],
      "execution_count": 0,
      "outputs": []
    },
    {
      "cell_type": "markdown",
      "metadata": {
        "id": "CWeIndQIER9R",
        "colab_type": "text"
      },
      "source": [
        "### Constructing the GRU model (as a subclass of keras Model)"
      ]
    },
    {
      "cell_type": "code",
      "metadata": {
        "id": "_5PCaHWAzYci",
        "colab_type": "code",
        "colab": {
          "base_uri": "https://localhost:8080/",
          "height": 105
        },
        "outputId": "e4b4e92a-e8e4-42f6-969e-1f96c65f5e35"
      },
      "source": [
        "### define the GRU component\n",
        "def gru(units):\n",
        "  # Using CuDNNGRU(provides a 3x speedup than GRU) when it is available\n",
        "  # the code automatically does that.\n",
        "    if tf.test.is_gpu_available():\n",
        "        print(\"YES: CuDNNGRU available\")\n",
        "        return tf.compat.v1.keras.layers.CuDNNGRU(units, \n",
        "                                    return_sequences=True, \n",
        "                                    return_state=True, \n",
        "                                    recurrent_initializer='glorot_uniform')\n",
        "    else:\n",
        "        print(\"NO: CuDNNGRU unavailable\")\n",
        "        return tf.keras.layers.GRU(units, \n",
        "                               return_sequences=True, \n",
        "                               return_state=True, \n",
        "                               recurrent_activation='relu', \n",
        "                               recurrent_initializer='glorot_uniform')\n",
        "\n",
        "### Build the model\n",
        "class EmoGRU(tf.keras.Model):\n",
        "    def __init__(self, vocab_inp_size, embedding_dim, hidden_units, batch_sz, output_size):\n",
        "        super(EmoGRU, self).__init__()\n",
        "        self.batch_sz = batch_sz\n",
        "        self.hidden_units = hidden_units\n",
        "        \n",
        "        # layers\n",
        "        self.embedding = tf.keras.layers.Embedding(input_dim=vocab_inp_size, output_dim=embedding_dim, input_shape=(inp_shape,))\n",
        "        self.gru = gru(self.hidden_units)\n",
        "        self.dropout = tf.keras.layers.Dropout(0.5)\n",
        "        self.fc = tf.keras.layers.Dense(output_size, activation=\"softmax\")\n",
        "        \n",
        "    def call(self, x, hidden):\n",
        "        x = self.embedding(x) \n",
        "        output, h_state = self.gru(x, initial_state = hidden) \n",
        "        out = output[:,-1,:]\n",
        "        out = self.dropout(out)\n",
        "        out = self.fc(out) \n",
        "        return out, h_state\n",
        "    \n",
        "    def initialize_hidden_state(self):\n",
        "        return tf.zeros((self.batch_sz, self.hidden_units))\n",
        "\n",
        "tf.keras.backend.clear_session()\n",
        "GRUmodel = EmoGRU(vocab_inp_size, embedding_dim, units, BATCH_SIZE, target_size)\n",
        "hidden = GRUmodel.initialize_hidden_state() # initialize the hidden state of the RNN"
      ],
      "execution_count": 17,
      "outputs": [
        {
          "output_type": "stream",
          "text": [
            "WARNING:tensorflow:From <ipython-input-17-6e7c5c4768cd>:4: is_gpu_available (from tensorflow.python.framework.test_util) is deprecated and will be removed in a future version.\n",
            "Instructions for updating:\n",
            "Use `tf.config.list_physical_devices('GPU')` instead.\n",
            "YES: CuDNNGRU available\n"
          ],
          "name": "stdout"
        }
      ]
    },
    {
      "cell_type": "code",
      "metadata": {
        "colab_type": "code",
        "outputId": "0915cbc8-5a50-4477-c79d-f7bcf1a7f8aa",
        "id": "663W-eJnF0tL",
        "colab": {
          "base_uri": "https://localhost:8080/",
          "height": 289
        }
      },
      "source": [
        "# testing for the first batch only then break the for loop\n",
        "for (batch, (inp, targ)) in enumerate(train_dataset): \n",
        "    out, state = GRUmodel(inp, hidden)\n",
        "    break\n",
        "GRUmodel.summary()"
      ],
      "execution_count": 18,
      "outputs": [
        {
          "output_type": "stream",
          "text": [
            "Model: \"emo_gru\"\n",
            "_________________________________________________________________\n",
            "Layer (type)                 Output Shape              Param #   \n",
            "=================================================================\n",
            "embedding (Embedding)        multiple                  16530432  \n",
            "_________________________________________________________________\n",
            "cu_dnngru (CuDNNGRU)         multiple                  3938304   \n",
            "_________________________________________________________________\n",
            "dropout (Dropout)            multiple                  0         \n",
            "_________________________________________________________________\n",
            "dense (Dense)                multiple                  5125      \n",
            "=================================================================\n",
            "Total params: 20,473,861\n",
            "Trainable params: 20,473,861\n",
            "Non-trainable params: 0\n",
            "_________________________________________________________________\n"
          ],
          "name": "stdout"
        }
      ]
    },
    {
      "cell_type": "markdown",
      "metadata": {
        "id": "XNC7v_t7ZP3H",
        "colab_type": "text"
      },
      "source": [
        "### GRU training"
      ]
    },
    {
      "cell_type": "code",
      "metadata": {
        "id": "YSufHHUPzyVA",
        "colab_type": "code",
        "outputId": "ec9a0abc-7e77-4e81-e17a-e2f880807364",
        "colab": {
          "base_uri": "https://localhost:8080/",
          "height": 629
        }
      },
      "source": [
        "optimizer = tf.keras.optimizers.Adam()\n",
        "EPOCHS = 3\n",
        "\n",
        "for epoch in range(EPOCHS):\n",
        "    start = time.time()\n",
        "    \n",
        "    ### Initialize hidden state\n",
        "    hidden = GRUmodel.initialize_hidden_state()\n",
        "    total_loss = 0\n",
        "    train_accuracy, val_accuracy = 0, 0\n",
        "    \n",
        "    ### Training\n",
        "    for (batch, (inp, targ)) in enumerate(train_dataset): # add posts here \n",
        "        loss = 0\n",
        "        \n",
        "        with tf.GradientTape() as tape:\n",
        "            predictions,_ = GRUmodel(inp, hidden)\n",
        "            emo_loss = Custom_KLD_loss(targ, predictions) #add posts here\n",
        "            loss += emo_loss\n",
        "            \n",
        "        batch_loss = (loss / int(targ.shape[1])) \n",
        "        total_loss += batch_loss\n",
        "        \n",
        "        batch_accuracy = custom_accuracy(targ, predictions)\n",
        "        train_accuracy += batch_accuracy\n",
        "        \n",
        "        gradients = tape.gradient(loss, GRUmodel.trainable_variables)\n",
        "        optimizer.apply_gradients(grads_and_vars=(zip(gradients, GRUmodel.trainable_variables)))\n",
        "\n",
        "        if batch % 50 == 0:\n",
        "            print('Epoch {} Batch {} '.format(epoch + 1,batch))\n",
        "            \n",
        "    ### Validating\n",
        "    hidden = GRUmodel.initialize_hidden_state()\n",
        "\n",
        "    for (batch, (inp, targ)) in enumerate(test_dataset):        \n",
        "        predictions,_ = GRUmodel(inp, hidden)        \n",
        "        batch_accuracy = custom_accuracy(targ, predictions)\n",
        "        val_accuracy += batch_accuracy\n",
        "    \n",
        "    print('Epoch {} -- Train Acc. {:.4f} -- Val Acc. {:.4f}'.format(epoch + 1, \n",
        "                                                             train_accuracy / TRAIN_N_BATCH,\n",
        "                                                             val_accuracy / TEST_N_BATCH))\n",
        "    print('Time taken for 1 epoch {} sec\\n'.format(time.time() - start))\n"
      ],
      "execution_count": 60,
      "outputs": [
        {
          "output_type": "stream",
          "text": [
            "Epoch 1 Batch 0 \n",
            "Epoch 1 Batch 50 \n",
            "Epoch 1 Batch 100 \n",
            "Epoch 1 Batch 150 \n",
            "Epoch 1 Batch 200 \n",
            "Epoch 1 Batch 250 \n",
            "Epoch 1 Batch 300 \n",
            "Epoch 1 Batch 350 \n",
            "Epoch 1 Batch 400 \n",
            "Epoch 1 -- Train Acc. 0.7844 -- Val Acc. 0.7353\n",
            "Time taken for 1 epoch 296.8420355319977 sec\n",
            "\n",
            "Epoch 2 Batch 0 \n",
            "Epoch 2 Batch 50 \n",
            "Epoch 2 Batch 100 \n",
            "Epoch 2 Batch 150 \n",
            "Epoch 2 Batch 200 \n",
            "Epoch 2 Batch 250 \n",
            "Epoch 2 Batch 300 \n",
            "Epoch 2 Batch 350 \n",
            "Epoch 2 Batch 400 \n",
            "Epoch 2 -- Train Acc. 0.8297 -- Val Acc. 0.7427\n",
            "Time taken for 1 epoch 296.3518843650818 sec\n",
            "\n",
            "Epoch 3 Batch 0 \n",
            "Epoch 3 Batch 50 \n",
            "Epoch 3 Batch 100 \n",
            "Epoch 3 Batch 150 \n",
            "Epoch 3 Batch 200 \n",
            "Epoch 3 Batch 250 \n",
            "Epoch 3 Batch 300 \n",
            "Epoch 3 Batch 350 \n",
            "Epoch 3 Batch 400 \n",
            "Epoch 3 -- Train Acc. 0.8676 -- Val Acc. 0.7432\n",
            "Time taken for 1 epoch 296.2948338985443 sec\n",
            "\n"
          ],
          "name": "stdout"
        }
      ]
    },
    {
      "cell_type": "markdown",
      "metadata": {
        "id": "VDY9qziRXWh8",
        "colab_type": "text"
      },
      "source": [
        "### Constructing the LSTM model (as a subclass of keras Model)"
      ]
    },
    {
      "cell_type": "code",
      "metadata": {
        "id": "HsBytMUwNFjw",
        "colab_type": "code",
        "colab": {
          "base_uri": "https://localhost:8080/",
          "height": 34
        },
        "outputId": "78998bfc-72a4-4b1c-b711-e95314fe7df2"
      },
      "source": [
        "### define the LSTM component\n",
        "def lstm(units):\n",
        "    if tf.test.is_gpu_available():\n",
        "        print(\"YES: CuDNNLSTM available\")\n",
        "        return tf.compat.v1.keras.layers.CuDNNLSTM(units, \n",
        "                                    return_sequences=True, \n",
        "                                    return_state=True, \n",
        "                                    recurrent_initializer='glorot_uniform')\n",
        "    else:\n",
        "        print(\"NO: CuDNNLSTM unavailable\")\n",
        "        return tf.keras.layers.LSTM(units, \n",
        "                               return_sequences=True, \n",
        "                               return_state=True, \n",
        "                               recurrent_activation='relu', \n",
        "                               recurrent_initializer='glorot_uniform')\n",
        "\n",
        "### Build the model\n",
        "class EmoLSTM(tf.keras.Model):\n",
        "    def __init__(self, vocab_inp_size, embedding_dim, hidden_units, batch_sz, output_size):\n",
        "        super(EmoLSTM, self).__init__()\n",
        "        self.batch_sz = batch_sz\n",
        "        self.hidden_units = hidden_units\n",
        "        \n",
        "        # layers\n",
        "        self.embedding = tf.keras.layers.Embedding(input_dim=vocab_inp_size, output_dim=embedding_dim, input_shape=(inp_shape,))\n",
        "        self.lstm = lstm(self.hidden_units)\n",
        "        self.dropout = tf.keras.layers.Dropout(0.5)\n",
        "        self.fc = tf.keras.layers.Dense(output_size, activation=\"softmax\")\n",
        "        \n",
        "    def call(self, x, hidden):\n",
        "        x = self.embedding(x) \n",
        "        output, h_state, state = self.lstm(x, initial_state = [hidden, hidden]) \n",
        "        out = output[:,-1,:]\n",
        "        out = self.dropout(out)\n",
        "        out = self.fc(out) \n",
        "        return out, h_state\n",
        "    \n",
        "    def initialize_hidden_state(self):\n",
        "        return tf.zeros((self.batch_sz, self.hidden_units))\n",
        "\n",
        "tf.keras.backend.clear_session()\n",
        "LSTMmodel = EmoLSTM(vocab_inp_size, embedding_dim, units, BATCH_SIZE, target_size)\n",
        "hidden = LSTMmodel.initialize_hidden_state() # initialize the hidden state of the RNN"
      ],
      "execution_count": 19,
      "outputs": [
        {
          "output_type": "stream",
          "text": [
            "YES: CuDNNLSTM available\n"
          ],
          "name": "stdout"
        }
      ]
    },
    {
      "cell_type": "markdown",
      "metadata": {
        "id": "rjWjbw4RWuxN",
        "colab_type": "text"
      },
      "source": [
        "### LSTM training:"
      ]
    },
    {
      "cell_type": "code",
      "metadata": {
        "id": "zX-PIIgcXPIB",
        "colab_type": "code",
        "colab": {
          "base_uri": "https://localhost:8080/",
          "height": 833
        },
        "outputId": "1a96e182-9238-42c9-eac3-df394ecd666c"
      },
      "source": [
        "opt = tf.keras.optimizers.Adam()\n",
        "\n",
        "EPOCHS = 4\n",
        "\n",
        "for epoch in range(EPOCHS):\n",
        "    start = time.time()\n",
        "    \n",
        "    total_loss = 0\n",
        "    train_accuracy, val_accuracy = 0, 0\n",
        "    \n",
        "    ### Training\n",
        "    for (batch, (inp, targ)) in enumerate(train_dataset):\n",
        "        loss = 0\n",
        "        \n",
        "        with tf.GradientTape() as tape:\n",
        "            # predictions = tf.convert_to_tensor(LSTMmodel.predict(inp, batch_size=BATCH_SIZE))\n",
        "            predictions,_ = LSTMmodel(inp, hidden)\n",
        "            emo_loss = Custom_KLD_loss(targ, predictions)\n",
        "            loss += emo_loss\n",
        "      \n",
        "        batch_loss = (loss / int(targ.shape[1])) \n",
        "        total_loss += batch_loss\n",
        "\n",
        "        batch_accuracy = custom_accuracy(targ, predictions)\n",
        "        train_accuracy += batch_accuracy\n",
        "        gradients = tape.gradient(loss, LSTMmodel.trainable_variables)\n",
        "        opt.apply_gradients(zip(gradients, LSTMmodel.trainable_variables))\n",
        "\n",
        "        if batch % 50 == 0:\n",
        "            print('Epoch {} Batch {} '.format(epoch + 1,batch))           \n",
        "\n",
        "    for (batch, (inp, targ)) in enumerate(test_dataset):        \n",
        "        predictions,_ = LSTMmodel(inp, hidden)        \n",
        "        batch_accuracy = custom_accuracy(targ, predictions)\n",
        "        val_accuracy += batch_accuracy\n",
        "    \n",
        "    print('Epoch {} -- Train Acc. {:.4f} -- Val Acc. {:.4f}'.format(epoch + 1, \n",
        "                                                             train_accuracy / TRAIN_N_BATCH,\n",
        "                                                             val_accuracy / TEST_N_BATCH))\n",
        "    print('Time taken for 1 epoch {} sec\\n'.format(time.time() - start))"
      ],
      "execution_count": 21,
      "outputs": [
        {
          "output_type": "stream",
          "text": [
            "Epoch 1 Batch 0 \n",
            "Epoch 1 Batch 50 \n",
            "Epoch 1 Batch 100 \n",
            "Epoch 1 Batch 150 \n",
            "Epoch 1 Batch 200 \n",
            "Epoch 1 Batch 250 \n",
            "Epoch 1 Batch 300 \n",
            "Epoch 1 Batch 350 \n",
            "Epoch 1 Batch 400 \n",
            "Epoch 1 -- Train Acc. 0.6210 -- Val Acc. 0.6062\n",
            "Time taken for 1 epoch 391.4581491947174 sec\n",
            "\n",
            "Epoch 2 Batch 0 \n",
            "Epoch 2 Batch 50 \n",
            "Epoch 2 Batch 100 \n",
            "Epoch 2 Batch 150 \n",
            "Epoch 2 Batch 200 \n",
            "Epoch 2 Batch 250 \n",
            "Epoch 2 Batch 300 \n",
            "Epoch 2 Batch 350 \n",
            "Epoch 2 Batch 400 \n",
            "Epoch 2 -- Train Acc. 0.6560 -- Val Acc. 0.6953\n",
            "Time taken for 1 epoch 396.314414024353 sec\n",
            "\n",
            "Epoch 3 Batch 0 \n",
            "Epoch 3 Batch 50 \n",
            "Epoch 3 Batch 100 \n",
            "Epoch 3 Batch 150 \n",
            "Epoch 3 Batch 200 \n",
            "Epoch 3 Batch 250 \n",
            "Epoch 3 Batch 300 \n",
            "Epoch 3 Batch 350 \n",
            "Epoch 3 Batch 400 \n",
            "Epoch 3 -- Train Acc. 0.7353 -- Val Acc. 0.7234\n",
            "Time taken for 1 epoch 401.0300145149231 sec\n",
            "\n",
            "Epoch 4 Batch 0 \n",
            "Epoch 4 Batch 50 \n",
            "Epoch 4 Batch 100 \n",
            "Epoch 4 Batch 150 \n",
            "Epoch 4 Batch 200 \n",
            "Epoch 4 Batch 250 \n",
            "Epoch 4 Batch 300 \n",
            "Epoch 4 Batch 350 \n",
            "Epoch 4 Batch 400 \n",
            "Epoch 4 -- Train Acc. 0.7910 -- Val Acc. 0.7355\n",
            "Time taken for 1 epoch 391.91170930862427 sec\n",
            "\n"
          ],
          "name": "stdout"
        }
      ]
    },
    {
      "cell_type": "markdown",
      "metadata": {
        "id": "HKDUL1kMWeIy",
        "colab_type": "text"
      },
      "source": [
        "### CNN training (Sequential Keras Model)"
      ]
    },
    {
      "cell_type": "code",
      "metadata": {
        "id": "cpiX6xNzWlAO",
        "colab_type": "code",
        "colab": {
          "base_uri": "https://localhost:8080/",
          "height": 513
        },
        "outputId": "4371d618-e98c-41fe-fbe9-724e6bfe8d28"
      },
      "source": [
        "model = tf.keras.Sequential()\n",
        "model.add(tf.keras.layers.Embedding(vocab_inp_size, 64, input_length=inp_shape))\n",
        "model.add(tf.keras.layers.Conv1D(filters=64, kernel_size=3, activation='relu'))\n",
        "model.add(tf.keras.layers.Flatten())\n",
        "model.add(tf.keras.layers.Dropout(rate=0.4))\n",
        "model.add(tf.keras.layers.Dense(50, activation='relu'))\n",
        "model.add(tf.keras.layers.Dense(target_size, activation='softmax'))\n",
        "\n",
        "model.summary()\n",
        "\n",
        "model.compile(optimizer='adam',\n",
        "              loss=tf.keras.losses.KLD,\n",
        "              metrics=[custom_accuracy])\n",
        "history = model.fit(x_train,\n",
        "                    y_train,\n",
        "                    epochs=4,\n",
        "                    batch_size=256,\n",
        "                    validation_data=(x_test, y_test),\n",
        "                    verbose=1)\n"
      ],
      "execution_count": 36,
      "outputs": [
        {
          "output_type": "stream",
          "text": [
            "Model: \"sequential_4\"\n",
            "_________________________________________________________________\n",
            "Layer (type)                 Output Shape              Param #   \n",
            "=================================================================\n",
            "embedding_5 (Embedding)      (None, 69, 64)            4132608   \n",
            "_________________________________________________________________\n",
            "conv1d_1 (Conv1D)            (None, 67, 64)            12352     \n",
            "_________________________________________________________________\n",
            "flatten_1 (Flatten)          (None, 4288)              0         \n",
            "_________________________________________________________________\n",
            "dropout_2 (Dropout)          (None, 4288)              0         \n",
            "_________________________________________________________________\n",
            "dense_3 (Dense)              (None, 50)                214450    \n",
            "_________________________________________________________________\n",
            "dense_4 (Dense)              (None, 5)                 255       \n",
            "=================================================================\n",
            "Total params: 4,359,665\n",
            "Trainable params: 4,359,665\n",
            "Non-trainable params: 0\n",
            "_________________________________________________________________\n",
            "Epoch 1/4\n",
            "209/209 [==============================] - 10s 49ms/step - loss: 0.5851 - custom_accuracy: 0.6640 - val_loss: 0.4696 - val_custom_accuracy: 0.7232\n",
            "Epoch 2/4\n",
            "209/209 [==============================] - 10s 49ms/step - loss: 0.3908 - custom_accuracy: 0.7681 - val_loss: 0.4395 - val_custom_accuracy: 0.7424\n",
            "Epoch 3/4\n",
            "209/209 [==============================] - 10s 49ms/step - loss: 0.2892 - custom_accuracy: 0.8212 - val_loss: 0.4527 - val_custom_accuracy: 0.7434\n",
            "Epoch 4/4\n",
            "209/209 [==============================] - 10s 49ms/step - loss: 0.2269 - custom_accuracy: 0.8531 - val_loss: 0.4738 - val_custom_accuracy: 0.7401\n"
          ],
          "name": "stdout"
        }
      ]
    },
    {
      "cell_type": "markdown",
      "metadata": {
        "id": "qn-BBHpCzYCM",
        "colab_type": "text"
      },
      "source": [
        "# 5) Analysis of Polarity and Controversy from an emotion distribution"
      ]
    },
    {
      "cell_type": "code",
      "metadata": {
        "id": "wdis4FZMzfsJ",
        "colab_type": "code",
        "colab": {
          "base_uri": "https://localhost:8080/",
          "height": 68
        },
        "outputId": "b1375e09-5e12-464e-fe39-8a391573d285"
      },
      "source": [
        "from scipy.spatial import distance\n",
        "\n",
        "def compute_controversy(prediction):\n",
        "  uniform_distribution = [0.2, 0.2, 0.2, 0.2, 0.2]\n",
        "  return (1 - distance.jensenshannon(prediction, uniform_distribution, 2.0))\n",
        "  \n",
        "# examples\n",
        "res1 = compute_controversy([0.2, 0.2, 0.2, 0.2, 0.2])\n",
        "res2 = compute_controversy([1, 0, 0, 0, 0])\n",
        "print(\"Controversy from a uniform distribution: \", res1)\n",
        "print(\"Controversy from an imbalanced distribution:\", res2)"
      ],
      "execution_count": 38,
      "outputs": [
        {
          "output_type": "stream",
          "text": [
            "Controversy from a uniform distribution:  1.0\n",
            "Controversy from an imbalanced distribution: 0.21898364485051436\n"
          ],
          "name": "stdout"
        },
        {
          "output_type": "execute_result",
          "data": {
            "text/plain": [
              "(22861, 69)"
            ]
          },
          "metadata": {
            "tags": []
          },
          "execution_count": 38
        }
      ]
    },
    {
      "cell_type": "code",
      "metadata": {
        "id": "sAWxgjqtz7hy",
        "colab_type": "code",
        "colab": {}
      },
      "source": [
        "def compute_polarity(prediction):\n",
        "  return ((prediction[0]+prediction[1]+prediction[2])/(prediction[0]+prediction[1]+prediction[2]+prediction[3]+prediction[4]))\n",
        "\n",
        "polarity_example = compute_polarity([0.2, 0.1, 0.1, 0.3, 0.3])"
      ],
      "execution_count": 0,
      "outputs": []
    },
    {
      "cell_type": "markdown",
      "metadata": {
        "id": "KmSlHPyHzKbA",
        "colab_type": "text"
      },
      "source": [
        "##--------------------------------------------------------------------------------------------------------------------------------------------------------------\n",
        "\n",
        "\n",
        "\n"
      ]
    },
    {
      "cell_type": "markdown",
      "metadata": {
        "id": "LI6a55LWyyjH",
        "colab_type": "text"
      },
      "source": [
        "# 5) Engagement prediction"
      ]
    },
    {
      "cell_type": "markdown",
      "metadata": {
        "id": "9yh2wSdh79iL",
        "colab_type": "text"
      },
      "source": [
        "### Preparing the engagement datasets"
      ]
    },
    {
      "cell_type": "code",
      "metadata": {
        "id": "j4N1Wf5b789l",
        "colab_type": "code",
        "colab": {}
      },
      "source": [
        "train_dataset = tf.data.Dataset.from_tensor_slices((x_train, y_eng_train, posts_train)).shuffle(TRAIN_BUFFER_SIZE) #add posts_training here for engagement prediction\n",
        "train_dataset = train_dataset.batch(BATCH_SIZE, drop_remainder=True)\n",
        "test_dataset = tf.data.Dataset.from_tensor_slices((x_test, y_eng_test, posts_test)).shuffle(TEST_BUFFER_SIZE)\n",
        "test_dataset = test_dataset.batch(BATCH_SIZE, drop_remainder=True)\n",
        "\n",
        "output_size = y_eng_train.shape[1]"
      ],
      "execution_count": 0,
      "outputs": []
    },
    {
      "cell_type": "markdown",
      "metadata": {
        "id": "LUDDsmvD-C4G",
        "colab_type": "text"
      },
      "source": [
        "### Custom loss function for engagement training"
      ]
    },
    {
      "cell_type": "code",
      "metadata": {
        "id": "ceMVTyQA-Cfw",
        "colab_type": "code",
        "colab": {}
      },
      "source": [
        "def custom_engagement_loss(y, yhat, posts_train):\n",
        "  binary_pred = tf.math.greater(yhat, 0.5)\n",
        "  batch_size = tf.cast(tf.shape(y)[0], dtype=tf.int32) \n",
        "  loss = tf.keras.losses.binary_crossentropy(y, yhat)\n",
        "  li = []\n",
        "\n",
        "  for i in range(batch_size):\n",
        "    loss_factor = 1\n",
        "    if (posts_train[i]==\"video\" or posts_train[i]==\"photo\"):\n",
        "      ground_sample = tf.cast(y[i], tf.int32)\n",
        "      pred_sample = tf.cast(binary_pred[i], tf.int32)\n",
        "      \n",
        "      if (ground_sample[2]==1 and pred_sample[0]==1):\n",
        "        loss_factor = loss_factor+1\n",
        "      if (ground_sample[5]==1 and pred_sample[3]==1):\n",
        "        loss_factor = loss_factor+1\n",
        "      if (ground_sample[8]==1 and pred_sample[6]==1):\n",
        "        loss_factor = loss_factor+1\n",
        "    \n",
        "    li.append(loss_factor)\n",
        "\n",
        "  ma = tf.convert_to_tensor(li)\n",
        "  mask = tf.cast(ma, dtype=tf.float32)\n",
        "  return loss*mask\n",
        "\n",
        "def eng_accuracy(y, yhat):\n",
        "  bin_yhat = tf.math.greater(yhat, 0.5)\n",
        "  match = tf.math.equal(tf.cast(y, tf.int64), tf.cast(bin_yhat, tf.int64))\n",
        "  n_matches = tf.reduce_sum(tf.cast(match, tf.float32))\n",
        "  len_y = tf.cast(tf.size(y), tf.float32)\n",
        "  acc = (n_matches/(len_y))\n",
        "  return acc"
      ],
      "execution_count": 0,
      "outputs": []
    },
    {
      "cell_type": "markdown",
      "metadata": {
        "id": "D_FjfJCn7DHk",
        "colab_type": "text"
      },
      "source": [
        "### Constructing the engagement GRU model "
      ]
    },
    {
      "cell_type": "code",
      "metadata": {
        "id": "M38KGGQu7Bhc",
        "colab_type": "code",
        "colab": {
          "base_uri": "https://localhost:8080/",
          "height": 34
        },
        "outputId": "482fef09-9b75-45b1-d0c4-4b84625462bb"
      },
      "source": [
        "### define the GRU component\n",
        "def gru(units):\n",
        "  # Using CuDNNGRU(provides a 3x speedup than GRU) when it is available\n",
        "  # the code automatically does that.\n",
        "    if tf.test.is_gpu_available():\n",
        "        print(\"YES: CuDNNGRU available\")\n",
        "        return tf.compat.v1.keras.layers.CuDNNGRU(units, \n",
        "                                    return_sequences=True, \n",
        "                                    return_state=True, \n",
        "                                    recurrent_initializer='glorot_uniform')\n",
        "    else:\n",
        "        print(\"NO: CuDNNGRU unavailable\")\n",
        "        return tf.keras.layers.GRU(units, \n",
        "                               return_sequences=True, \n",
        "                               return_state=True, \n",
        "                               recurrent_activation='relu', \n",
        "                               recurrent_initializer='glorot_uniform')\n",
        "\n",
        "### Build the model\n",
        "class EmoGRU(tf.keras.Model):\n",
        "    def __init__(self, vocab_inp_size, embedding_dim, hidden_units, batch_sz, output_size):\n",
        "        super(EmoGRU, self).__init__()\n",
        "        self.batch_sz = batch_sz\n",
        "        self.hidden_units = hidden_units\n",
        "        \n",
        "        # layers\n",
        "        self.embedding = tf.keras.layers.Embedding(input_dim=vocab_inp_size, output_dim=embedding_dim, input_shape=(inp_shape,))\n",
        "        self.gru = gru(self.hidden_units)\n",
        "        self.dropout = tf.keras.layers.Dropout(0.5)\n",
        "        self.fc = tf.keras.layers.Dense(output_size, activation=\"sigmoid\")\n",
        "        \n",
        "    def call(self, x, hidden):\n",
        "        x = self.embedding(x) \n",
        "        output, h_state = self.gru(x, initial_state = hidden) \n",
        "        out = output[:,-1,:]\n",
        "        out = self.dropout(out)\n",
        "        out = self.fc(out) \n",
        "        return out, h_state\n",
        "    \n",
        "    def initialize_hidden_state(self):\n",
        "        return tf.zeros((self.batch_sz, self.hidden_units))\n",
        "\n",
        "tf.keras.backend.clear_session()\n",
        "GRUmodel = EmoGRU(vocab_inp_size, embedding_dim, units, BATCH_SIZE, output_size)\n",
        "hidden = GRUmodel.initialize_hidden_state() # initialize the hidden state of the RNN"
      ],
      "execution_count": 98,
      "outputs": [
        {
          "output_type": "stream",
          "text": [
            "YES: CuDNNGRU available\n"
          ],
          "name": "stdout"
        }
      ]
    },
    {
      "cell_type": "markdown",
      "metadata": {
        "id": "-yv_Jp_693RW",
        "colab_type": "text"
      },
      "source": [
        "### GRU training"
      ]
    },
    {
      "cell_type": "code",
      "metadata": {
        "id": "KvlieJzZ9z9-",
        "colab_type": "code",
        "colab": {
          "base_uri": "https://localhost:8080/",
          "height": 833
        },
        "outputId": "c6152670-c5c6-42b9-8c92-a463ac290da6"
      },
      "source": [
        "optimizer = tf.keras.optimizers.Adam()\n",
        "EPOCHS = 4\n",
        "\n",
        "for epoch in range(EPOCHS):\n",
        "    start = time.time()\n",
        "    \n",
        "    ### Initialize hidden state\n",
        "    hidden = GRUmodel.initialize_hidden_state()\n",
        "    total_loss = 0\n",
        "    train_accuracy, val_accuracy = 0, 0\n",
        "    \n",
        "    ### Training\n",
        "    for (batch, (inp, targ, post_type)) in enumerate(train_dataset): # add posts here \n",
        "        loss = 0\n",
        "        \n",
        "        with tf.GradientTape() as tape:\n",
        "            predictions,_ = GRUmodel(inp, hidden)\n",
        "            engagement_loss = custom_engagement_loss(targ, predictions, post_type) #add posts here\n",
        "            loss += engagement_loss\n",
        "            \n",
        "        batch_loss = (loss / int(targ.shape[1])) \n",
        "        total_loss += batch_loss\n",
        "        \n",
        "        batch_accuracy = eng_accuracy(targ, predictions)\n",
        "        train_accuracy += batch_accuracy\n",
        "        \n",
        "        gradients = tape.gradient(loss, GRUmodel.trainable_variables)\n",
        "        optimizer.apply_gradients(grads_and_vars=(zip(gradients, GRUmodel.trainable_variables)))\n",
        "\n",
        "        if batch % 50 == 0:\n",
        "            print('Epoch {} Batch {} '.format(epoch + 1,batch))\n",
        "            \n",
        "    ### Validating\n",
        "    hidden = GRUmodel.initialize_hidden_state()\n",
        "\n",
        "    for (batch, (inp, targ, post_type)) in enumerate(test_dataset):        \n",
        "        predictions,_ = GRUmodel(inp, hidden)        \n",
        "        batch_accuracy = eng_accuracy(targ, predictions)\n",
        "        val_accuracy += batch_accuracy\n",
        "    \n",
        "    print('Epoch {} -- Train Acc. {:.4f} -- Val Acc. {:.4f}'.format(epoch + 1, \n",
        "                                                             train_accuracy / TRAIN_N_BATCH,\n",
        "                                                             val_accuracy / TEST_N_BATCH))\n",
        "    print('Time taken for 1 epoch {} sec\\n'.format(time.time() - start))"
      ],
      "execution_count": 99,
      "outputs": [
        {
          "output_type": "stream",
          "text": [
            "Epoch 1 Batch 0 \n",
            "Epoch 1 Batch 50 \n",
            "Epoch 1 Batch 100 \n",
            "Epoch 1 Batch 150 \n",
            "Epoch 1 Batch 200 \n",
            "Epoch 1 Batch 250 \n",
            "Epoch 1 Batch 300 \n",
            "Epoch 1 Batch 350 \n",
            "Epoch 1 Batch 400 \n",
            "Epoch 1 -- Train Acc. 0.6702 -- Val Acc. 0.6837\n",
            "Time taken for 1 epoch 146.8789746761322 sec\n",
            "\n",
            "Epoch 2 Batch 0 \n",
            "Epoch 2 Batch 50 \n",
            "Epoch 2 Batch 100 \n",
            "Epoch 2 Batch 150 \n",
            "Epoch 2 Batch 200 \n",
            "Epoch 2 Batch 250 \n",
            "Epoch 2 Batch 300 \n",
            "Epoch 2 Batch 350 \n",
            "Epoch 2 Batch 400 \n",
            "Epoch 2 -- Train Acc. 0.7028 -- Val Acc. 0.6942\n",
            "Time taken for 1 epoch 146.95168161392212 sec\n",
            "\n",
            "Epoch 3 Batch 0 \n",
            "Epoch 3 Batch 50 \n",
            "Epoch 3 Batch 100 \n",
            "Epoch 3 Batch 150 \n",
            "Epoch 3 Batch 200 \n",
            "Epoch 3 Batch 250 \n",
            "Epoch 3 Batch 300 \n",
            "Epoch 3 Batch 350 \n",
            "Epoch 3 Batch 400 \n",
            "Epoch 3 -- Train Acc. 0.7452 -- Val Acc. 0.6848\n",
            "Time taken for 1 epoch 146.21924495697021 sec\n",
            "\n",
            "Epoch 4 Batch 0 \n",
            "Epoch 4 Batch 50 \n",
            "Epoch 4 Batch 100 \n",
            "Epoch 4 Batch 150 \n",
            "Epoch 4 Batch 200 \n",
            "Epoch 4 Batch 250 \n",
            "Epoch 4 Batch 300 \n",
            "Epoch 4 Batch 350 \n",
            "Epoch 4 Batch 400 \n",
            "Epoch 4 -- Train Acc. 0.7896 -- Val Acc. 0.6650\n",
            "Time taken for 1 epoch 146.19158363342285 sec\n",
            "\n"
          ],
          "name": "stdout"
        }
      ]
    },
    {
      "cell_type": "markdown",
      "metadata": {
        "id": "0DgMnmm1Xkwp",
        "colab_type": "text"
      },
      "source": [
        "### Constructing LSTM engagement model"
      ]
    },
    {
      "cell_type": "code",
      "metadata": {
        "id": "ECscVWYkXr-p",
        "colab_type": "code",
        "colab": {
          "base_uri": "https://localhost:8080/",
          "height": 34
        },
        "outputId": "7d1866ba-8e5b-4d8f-c280-b99181031c31"
      },
      "source": [
        "### define the LSTM component\n",
        "def lstm(units):\n",
        "    if tf.test.is_gpu_available():\n",
        "        print(\"YES: CuDNNLSTM available\")\n",
        "        return tf.compat.v1.keras.layers.CuDNNLSTM(units, \n",
        "                                    return_sequences=True, \n",
        "                                    return_state=True, \n",
        "                                    recurrent_initializer='glorot_uniform')\n",
        "    else:\n",
        "        print(\"NO: CuDNNLSTM unavailable\")\n",
        "        return tf.keras.layers.LSTM(units, \n",
        "                               return_sequences=True, \n",
        "                               return_state=True, \n",
        "                               recurrent_activation='relu', \n",
        "                               recurrent_initializer='glorot_uniform')\n",
        "\n",
        "### Build the model\n",
        "class EmoLSTM(tf.keras.Model):\n",
        "    def __init__(self, vocab_inp_size, embedding_dim, hidden_units, batch_sz, output_size):\n",
        "        super(EmoLSTM, self).__init__()\n",
        "        self.batch_sz = batch_sz\n",
        "        self.hidden_units = hidden_units\n",
        "        \n",
        "        # layers\n",
        "        self.embedding = tf.keras.layers.Embedding(input_dim=vocab_inp_size, output_dim=embedding_dim, input_shape=(inp_shape,))\n",
        "        self.lstm = lstm(self.hidden_units)\n",
        "        self.dropout = tf.keras.layers.Dropout(0.5)\n",
        "        self.fc = tf.keras.layers.Dense(output_size, activation=\"sigmoid\")\n",
        "        \n",
        "    def call(self, x, hidden):\n",
        "        x = self.embedding(x) \n",
        "        output, h_state, state = self.lstm(x, initial_state = [hidden, hidden]) \n",
        "        out = output[:,-1,:]\n",
        "        out = self.dropout(out)\n",
        "        out = self.fc(out) \n",
        "        return out, h_state\n",
        "    \n",
        "    def initialize_hidden_state(self):\n",
        "        return tf.zeros((self.batch_sz, self.hidden_units))\n",
        "\n",
        "tf.keras.backend.clear_session()\n",
        "LSTMmodel = EmoLSTM(vocab_inp_size, embedding_dim, units, BATCH_SIZE, output_size)\n",
        "hidden = LSTMmodel.initialize_hidden_state() # initialize the hidden state of the RNN"
      ],
      "execution_count": 24,
      "outputs": [
        {
          "output_type": "stream",
          "text": [
            "YES: CuDNNLSTM available\n"
          ],
          "name": "stdout"
        }
      ]
    },
    {
      "cell_type": "markdown",
      "metadata": {
        "id": "G19PIOUcX3XL",
        "colab_type": "text"
      },
      "source": [
        "### LSTM training:"
      ]
    },
    {
      "cell_type": "code",
      "metadata": {
        "id": "Q-4-RFO0YJ_G",
        "colab_type": "code",
        "colab": {
          "base_uri": "https://localhost:8080/",
          "height": 833
        },
        "outputId": "681a74fd-13d7-4bb4-9f2e-be8fdfd77111"
      },
      "source": [
        "opt = tf.keras.optimizers.Adam()\n",
        "\n",
        "EPOCHS = 4\n",
        "\n",
        "for epoch in range(EPOCHS):\n",
        "    start = time.time()\n",
        "    \n",
        "    total_loss = 0\n",
        "    train_accuracy, val_accuracy = 0, 0\n",
        "    \n",
        "    ### Training\n",
        "    for (batch, (inp, targ, posts_type)) in enumerate(train_dataset):\n",
        "        loss = 0\n",
        "        \n",
        "        with tf.GradientTape() as tape:\n",
        "            # predictions = tf.convert_to_tensor(LSTMmodel.predict(inp, batch_size=BATCH_SIZE))\n",
        "            predictions,_ = LSTMmodel(inp, hidden)\n",
        "            emo_loss = custom_engagement_loss(targ, predictions, posts_type)\n",
        "            loss += emo_loss\n",
        "      \n",
        "        batch_loss = (loss / int(targ.shape[1])) \n",
        "        total_loss += batch_loss\n",
        "\n",
        "        batch_accuracy = eng_accuracy(targ, predictions)\n",
        "        train_accuracy += batch_accuracy\n",
        "        gradients = tape.gradient(loss, LSTMmodel.trainable_variables)\n",
        "        opt.apply_gradients(zip(gradients, LSTMmodel.trainable_variables))\n",
        "\n",
        "        if batch % 50 == 0:\n",
        "            print('Epoch {} Batch {} '.format(epoch + 1,batch))           \n",
        "\n",
        "    for (batch, (inp, targ, posts_type)) in enumerate(test_dataset):        \n",
        "        predictions,_ = LSTMmodel(inp, hidden)        \n",
        "        batch_accuracy = eng_accuracy(targ, predictions)\n",
        "        val_accuracy += batch_accuracy\n",
        "    \n",
        "    print('Epoch {} -- Train Acc. {:.4f} -- Val Acc. {:.4f}'.format(epoch + 1, \n",
        "                                                             train_accuracy / TRAIN_N_BATCH,\n",
        "                                                             val_accuracy / TEST_N_BATCH))\n",
        "    print('Time taken for 1 epoch {} sec\\n'.format(time.time() - start))"
      ],
      "execution_count": 26,
      "outputs": [
        {
          "output_type": "stream",
          "text": [
            "Epoch 1 Batch 0 \n",
            "Epoch 1 Batch 50 \n",
            "Epoch 1 Batch 100 \n",
            "Epoch 1 Batch 150 \n",
            "Epoch 1 Batch 200 \n",
            "Epoch 1 Batch 250 \n",
            "Epoch 1 Batch 300 \n",
            "Epoch 1 Batch 350 \n",
            "Epoch 1 Batch 400 \n",
            "Epoch 1 -- Train Acc. 0.6666 -- Val Acc. 0.6667\n",
            "Time taken for 1 epoch 185.63288617134094 sec\n",
            "\n",
            "Epoch 2 Batch 0 \n",
            "Epoch 2 Batch 50 \n",
            "Epoch 2 Batch 100 \n",
            "Epoch 2 Batch 150 \n",
            "Epoch 2 Batch 200 \n",
            "Epoch 2 Batch 250 \n",
            "Epoch 2 Batch 300 \n",
            "Epoch 2 Batch 350 \n",
            "Epoch 2 Batch 400 \n",
            "Epoch 2 -- Train Acc. 0.6642 -- Val Acc. 0.6667\n",
            "Time taken for 1 epoch 188.60984063148499 sec\n",
            "\n",
            "Epoch 3 Batch 0 \n",
            "Epoch 3 Batch 50 \n",
            "Epoch 3 Batch 100 \n",
            "Epoch 3 Batch 150 \n",
            "Epoch 3 Batch 200 \n",
            "Epoch 3 Batch 250 \n",
            "Epoch 3 Batch 300 \n",
            "Epoch 3 Batch 350 \n",
            "Epoch 3 Batch 400 \n",
            "Epoch 3 -- Train Acc. 0.6678 -- Val Acc. 0.6713\n",
            "Time taken for 1 epoch 187.5673303604126 sec\n",
            "\n",
            "Epoch 4 Batch 0 \n",
            "Epoch 4 Batch 50 \n",
            "Epoch 4 Batch 100 \n",
            "Epoch 4 Batch 150 \n",
            "Epoch 4 Batch 200 \n",
            "Epoch 4 Batch 250 \n",
            "Epoch 4 Batch 300 \n",
            "Epoch 4 Batch 350 \n",
            "Epoch 4 Batch 400 \n",
            "Epoch 4 -- Train Acc. 0.6906 -- Val Acc. 0.6822\n",
            "Time taken for 1 epoch 185.68398427963257 sec\n",
            "\n"
          ],
          "name": "stdout"
        }
      ]
    },
    {
      "cell_type": "markdown",
      "metadata": {
        "id": "h3i1p0hBXdDu",
        "colab_type": "text"
      },
      "source": [
        "### CNN engagement model"
      ]
    },
    {
      "cell_type": "code",
      "metadata": {
        "colab_type": "code",
        "id": "ONvtZBZ0METI",
        "colab": {
          "base_uri": "https://localhost:8080/",
          "height": 513
        },
        "outputId": "a28f5f35-98f1-4948-e283-99aab0e6f573"
      },
      "source": [
        "model = tf.keras.Sequential()\n",
        "model.add(tf.keras.layers.Embedding(vocab_inp_size, 64, input_length=inp_shape))\n",
        "model.add(tf.keras.layers.Conv1D(filters=64, kernel_size=3, activation='relu'))\n",
        "model.add(tf.keras.layers.Flatten())\n",
        "model.add(tf.keras.layers.Dropout(rate=0.4))\n",
        "model.add(tf.keras.layers.Dense(50, activation='relu'))\n",
        "model.add(tf.keras.layers.Dense(output_size, activation='sigmoid'))\n",
        "\n",
        "model.summary()\n",
        "\n",
        "model.compile(optimizer='adam',\n",
        "              loss=tf.keras.losses.binary_crossentropy,\n",
        "              metrics=[eng_accuracy])\n",
        "history = model.fit(x_train,\n",
        "                    y_eng_train,\n",
        "                    epochs=4,\n",
        "                    batch_size=256,\n",
        "                    validation_data=(x_test, y_eng_test),\n",
        "                    verbose=1)"
      ],
      "execution_count": 21,
      "outputs": [
        {
          "output_type": "stream",
          "text": [
            "Model: \"sequential_4\"\n",
            "_________________________________________________________________\n",
            "Layer (type)                 Output Shape              Param #   \n",
            "=================================================================\n",
            "embedding_4 (Embedding)      (None, 69, 64)            4132608   \n",
            "_________________________________________________________________\n",
            "conv1d_4 (Conv1D)            (None, 67, 64)            12352     \n",
            "_________________________________________________________________\n",
            "flatten_4 (Flatten)          (None, 4288)              0         \n",
            "_________________________________________________________________\n",
            "dropout_4 (Dropout)          (None, 4288)              0         \n",
            "_________________________________________________________________\n",
            "dense_7 (Dense)              (None, 50)                214450    \n",
            "_________________________________________________________________\n",
            "dense_8 (Dense)              (None, 9)                 459       \n",
            "=================================================================\n",
            "Total params: 4,359,869\n",
            "Trainable params: 4,359,869\n",
            "Non-trainable params: 0\n",
            "_________________________________________________________________\n",
            "Epoch 1/4\n",
            "209/209 [==============================] - 9s 43ms/step - loss: 0.6123 - eng_accuracy: 0.6750 - val_loss: 0.5881 - val_eng_accuracy: 0.6894\n",
            "Epoch 2/4\n",
            "209/209 [==============================] - 9s 42ms/step - loss: 0.5541 - eng_accuracy: 0.7130 - val_loss: 0.5800 - val_eng_accuracy: 0.6956\n",
            "Epoch 3/4\n",
            "209/209 [==============================] - 9s 42ms/step - loss: 0.4871 - eng_accuracy: 0.7547 - val_loss: 0.6028 - val_eng_accuracy: 0.6821\n",
            "Epoch 4/4\n",
            "209/209 [==============================] - 9s 42ms/step - loss: 0.4030 - eng_accuracy: 0.8086 - val_loss: 0.6511 - val_eng_accuracy: 0.6720\n"
          ],
          "name": "stdout"
        }
      ]
    }
  ]
}
